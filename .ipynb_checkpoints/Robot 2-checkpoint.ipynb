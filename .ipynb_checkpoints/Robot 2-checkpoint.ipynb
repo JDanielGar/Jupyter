{
 "cells": [
  {
   "cell_type": "markdown",
   "metadata": {},
   "source": [
    "# Librerias"
   ]
  },
  {
   "cell_type": "code",
   "execution_count": 2,
   "metadata": {
    "collapsed": false
   },
   "outputs": [],
   "source": [
    "from time import sleep\n",
    "from threading import *"
   ]
  },
  {
   "cell_type": "markdown",
   "metadata": {},
   "source": [
    "# Datos"
   ]
  },
  {
   "cell_type": "code",
   "execution_count": 1,
   "metadata": {
    "collapsed": false
   },
   "outputs": [],
   "source": [
    "class Datos:\n",
    "    personas = []\n",
    "    sonidos = []\n",
    "    def AgregarPersona(self, persona):\n",
    "        self.personas.append(persona)\n",
    "    def AgregarSonido(self, sonido):\n",
    "        self.sonidos.append(sonido)"
   ]
  },
  {
   "cell_type": "markdown",
   "metadata": {},
   "source": [
    "# Entorno"
   ]
  },
  {
   "cell_type": "code",
   "execution_count": 4,
   "metadata": {
    "collapsed": false
   },
   "outputs": [],
   "source": [
    "class Entorno(Datos):\n",
    "    def __init__(self, etiqueta, dimensiones=[0,0]):\n",
    "        self.etiqueta = etiqueta\n",
    "        self.dimensiones = dimensiones"
   ]
  },
  {
   "cell_type": "markdown",
   "metadata": {},
   "source": [
    "# Persona"
   ]
  },
  {
   "cell_type": "code",
   "execution_count": 5,
   "metadata": {
    "collapsed": false
   },
   "outputs": [],
   "source": [
    "class Persona(Datos):\n",
    "    posicion = [0, 0]\n",
    "    umbral = 50\n",
    "    sentidos = [.54, .30, .16] # (vista, escucha, olfato) -> Equivalen a los umbrales necesarios para el proceso\n",
    "    def __init__(self, etiqueta):\n",
    "        self.etiqueta = etiqueta\n",
    "    def CambiarPosicion(self, nueva_posicion):\n",
    "        self.posicion = nueva_posicion\n",
    "    def ActivarHumano(self):\n",
    "        olfato = Thread(target=self.Respirar)\n",
    "        olfato.start()\n",
    "        print('Puede seguir el poceso')\n",
    "    def Oir(self):\n",
    "        global sonido_deteccion\n",
    "        sonido_deteccion = 0\n",
    "        produccion_sonido = []\n",
    "        escuchar = True\n",
    "        while(escuchar):\n",
    "            if(sonido_deteccion!=0):\n",
    "                print('Escuche', sonido_deteccion)\n",
    "                produccion_sonido.append(sonido_deteccion)\n",
    "                print(produccion_sonido)\n",
    "            print('Escuchando')\n",
    "            sleep(1)"
   ]
  },
  {
   "cell_type": "markdown",
   "metadata": {},
   "source": [
    "# Sonido"
   ]
  },
  {
   "cell_type": "code",
   "execution_count": 6,
   "metadata": {
    "collapsed": false
   },
   "outputs": [],
   "source": [
    "class Sonido:\n",
    "    def __init__(self, sonido = []):\n",
    "        self.sonido = sonido\n",
    "    def ActivarSonido(self):\n",
    "        global sonido_deteccion\n",
    "        for sonido in self.sonido:\n",
    "            sonido_deteccion = sonido\n",
    "            print(sonido)\n",
    "            sleep(1)\n",
    "        sonido_deteccion = 0;\n",
    "        "
   ]
  },
  {
   "cell_type": "markdown",
   "metadata": {},
   "source": [
    "# Nuestro entorno "
   ]
  },
  {
   "cell_type": "code",
   "execution_count": 10,
   "metadata": {
    "collapsed": false
   },
   "outputs": [],
   "source": [
    "Entornos.append(Entorno('Tierra', [100, 100]))\n",
    "\n",
    "# Una sola persona #\n",
    "\n",
    "Entornos[0].AgregarPersona(Persona('Daniel'))\n",
    "\n",
    "# Trabajaremos con sonidos #\n",
    "\n",
    "Entornos[0].AgregarSonido(Sonido([3, 4, 5]))\n",
    "Entornos[0].AgregarSonido(Sonido([1, 3, 1, 6]))\n",
    "Entornos[0].AgregarSonido(Sonido([3]))\n"
   ]
  },
  {
   "cell_type": "markdown",
   "metadata": {},
   "source": [
    "# Activar Persona"
   ]
  },
  {
   "cell_type": "code",
   "execution_count": 11,
   "metadata": {
    "collapsed": false
   },
   "outputs": [
    {
     "name": "stdout",
     "output_type": "stream",
     "text": [
      "Viendo\n",
      "EscuchandoRespirando\n",
      "Puede seguir el poceso\n",
      "\n"
     ]
    }
   ],
   "source": [
    "Entornos[0].personas[0].ActivarHumano()"
   ]
  },
  {
   "cell_type": "code",
   "execution_count": 12,
   "metadata": {
    "collapsed": false
   },
   "outputs": [
    {
     "name": "stdout",
     "output_type": "stream",
     "text": [
      "3\n",
      "Escuche 3\n",
      "[3]\n",
      "Escuchando\n",
      "4\n",
      "Escuche 4\n",
      "[3, 4]\n",
      "Escuchando\n",
      "5\n",
      "Escuche 5\n",
      "[3, 4, 5]\n",
      "Escuchando\n"
     ]
    }
   ],
   "source": [
    "Entornos[0].sonidos[0].ActivarSonido()\n"
   ]
  },
  {
   "cell_type": "code",
   "execution_count": 13,
   "metadata": {
    "collapsed": false
   },
   "outputs": [
    {
     "name": "stdout",
     "output_type": "stream",
     "text": [
      "1\n",
      "Escuche 1\n",
      "[3, 4, 5, 1]\n",
      "Escuchando\n",
      "3\n",
      "Viendo\n",
      "Escuche 3\n",
      "[3, 4, 5, 1, 3]\n",
      "Escuchando\n",
      "1\n",
      "Escuche 1\n",
      "[3, 4, 5, 1, 3, 1]\n",
      "Escuchando\n",
      "6\n",
      "Escuche 6\n",
      "[3, 4, 5, 1, 3, 1, 6]\n",
      "Escuchando\n",
      "Escuchando\n",
      "Escuchando\n",
      "Viendo\n",
      "Respirando\n",
      "Escuchando\n",
      "Escuchando\n",
      "Escuchando\n",
      "Escuchando\n",
      "Escuchando\n"
     ]
    }
   ],
   "source": [
    "Entornos[0].sonidos[1].ActivarSonido()"
   ]
  },
  {
   "cell_type": "code",
   "execution_count": null,
   "metadata": {
    "collapsed": true
   },
   "outputs": [],
   "source": []
  },
  {
   "cell_type": "code",
   "execution_count": null,
   "metadata": {
    "collapsed": true
   },
   "outputs": [],
   "source": []
  },
  {
   "cell_type": "code",
   "execution_count": null,
   "metadata": {
    "collapsed": true
   },
   "outputs": [],
   "source": []
  },
  {
   "cell_type": "code",
   "execution_count": null,
   "metadata": {
    "collapsed": true
   },
   "outputs": [],
   "source": []
  },
  {
   "cell_type": "code",
   "execution_count": null,
   "metadata": {
    "collapsed": true
   },
   "outputs": [],
   "source": []
  },
  {
   "cell_type": "code",
   "execution_count": null,
   "metadata": {
    "collapsed": true
   },
   "outputs": [],
   "source": []
  },
  {
   "cell_type": "code",
   "execution_count": null,
   "metadata": {
    "collapsed": true
   },
   "outputs": [],
   "source": []
  },
  {
   "cell_type": "code",
   "execution_count": null,
   "metadata": {
    "collapsed": true
   },
   "outputs": [],
   "source": []
  },
  {
   "cell_type": "code",
   "execution_count": null,
   "metadata": {
    "collapsed": true
   },
   "outputs": [],
   "source": []
  }
 ],
 "metadata": {
  "kernelspec": {
   "display_name": "Python 3",
   "language": "python",
   "name": "python3"
  },
  "language_info": {
   "codemirror_mode": {
    "name": "ipython",
    "version": 3
   },
   "file_extension": ".py",
   "mimetype": "text/x-python",
   "name": "python",
   "nbconvert_exporter": "python",
   "pygments_lexer": "ipython3",
   "version": "3.6.0"
  }
 },
 "nbformat": 4,
 "nbformat_minor": 2
}
