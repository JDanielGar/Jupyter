{
 "cells": [
  {
   "cell_type": "markdown",
   "metadata": {},
   "source": [
    "# Librerias"
   ]
  },
  {
   "cell_type": "code",
   "execution_count": 1,
   "metadata": {
    "collapsed": true
   },
   "outputs": [],
   "source": [
    "from time import sleep"
   ]
  },
  {
   "cell_type": "markdown",
   "metadata": {},
   "source": [
    "# Entorno"
   ]
  },
  {
   "cell_type": "code",
   "execution_count": 2,
   "metadata": {
    "collapsed": true
   },
   "outputs": [],
   "source": [
    "class Entorno:\n",
    "    Entes = []\n",
    "    def __init__(self, dimensiones=[0,0]):\n",
    "        self.dimensiones = dimensiones\n",
    "    def AgregarEnte(self, ente):\n",
    "        self.Entes.append(ente)"
   ]
  },
  {
   "cell_type": "markdown",
   "metadata": {},
   "source": [
    "# Persona"
   ]
  },
  {
   "cell_type": "code",
   "execution_count": 3,
   "metadata": {
    "collapsed": false
   },
   "outputs": [],
   "source": [
    "class Persona:\n",
    "    posicion = [0, 0]\n",
    "    sentidos = [.54, .30, .16] # (vista, escucha, olfato) -> Equivalen a los umbrales necesarios para el proceso\n",
    "    def __init__(self, etiqueta):\n",
    "        self.etiqueta = etiqueta\n",
    "    def CambiarPosicion(self, nueva_posicion):\n",
    "        self.posicion = nueva_posicion\n",
    "    def Ver(self):\n",
    "        sleep(1)\n",
    "    def Oir(self):\n",
    "        sleep(1)\n",
    "    def Respirar(self):\n",
    "        sleep(1)"
   ]
  },
  {
   "cell_type": "markdown",
   "metadata": {},
   "source": [
    "# Sonido"
   ]
  },
  {
   "cell_type": "code",
   "execution_count": 4,
   "metadata": {
    "collapsed": true
   },
   "outputs": [],
   "source": [
    "class Sonido:\n",
    "    def __init__(self, sonido = []):\n",
    "        self.sonido = sonido"
   ]
  },
  {
   "cell_type": "markdown",
   "metadata": {},
   "source": [
    "# Objeto"
   ]
  },
  {
   "cell_type": "code",
   "execution_count": 5,
   "metadata": {
    "collapsed": false
   },
   "outputs": [],
   "source": [
    "class Objeto:\n",
    "    def __init__(self, objeto = []):\n",
    "        self.objeto = objeto"
   ]
  },
  {
   "cell_type": "markdown",
   "metadata": {},
   "source": [
    "# Interfaz Creacion"
   ]
  },
  {
   "cell_type": "code",
   "execution_count": 3,
   "metadata": {
    "collapsed": false
   },
   "outputs": [
    {
     "ename": "SyntaxError",
     "evalue": "unexpected EOF while parsing (<ipython-input-3-baa45e5520db>, line 13)",
     "output_type": "error",
     "traceback": [
      "\u001b[0;36m  File \u001b[0;32m\"<ipython-input-3-baa45e5520db>\"\u001b[0;36m, line \u001b[0;32m13\u001b[0m\n\u001b[0;31m    \u001b[0m\n\u001b[0m    ^\u001b[0m\n\u001b[0;31mSyntaxError\u001b[0m\u001b[0;31m:\u001b[0m unexpected EOF while parsing\n"
     ]
    }
   ],
   "source": [
    "def Interfaz_Creacion():\n",
    "    desicion = int(input('¿Que deseas crear? \\n1. Persona. \\n2. Sonido \\n'))\n",
    "    if(desicion == 1):\n",
    "        nombre = input('Dale un nombre a la Persona')\n",
    "        persona = Persona(nombre)\n",
    "        print('Asignale una posicion en x y otra en y:')\n",
    "        posicion_x = int(input('Posicion en x'))\n",
    "        posicion_y = int(input('Posicion en y'))\n",
    "        persona.CambiarPosicion([posicion_x, posicion_y])\n",
    "        print(persona.posicion)\n",
    "        \n",
    "    elif(desicion == 2):\n",
    "        print('Hola')\n",
    "        "
   ]
  },
  {
   "cell_type": "code",
   "execution_count": 4,
   "metadata": {
    "collapsed": false
   },
   "outputs": [
    {
     "name": "stdout",
     "output_type": "stream",
     "text": [
      "¿Que deseas crear? \n",
      "1. Persona. \n",
      "2. Sonido \n",
      "1\n",
      "Dale un nombre a la PersonaDaniel\n",
      "Asignale una posicion en x y otra en y. Deja el espacio vacio si quieres que este en [0, 0]\n",
      "Posicion en x1\n",
      "Posicion en y2\n"
     ]
    }
   ],
   "source": [
    "Interfaz_Creacion()"
   ]
  },
  {
   "cell_type": "code",
   "execution_count": null,
   "metadata": {
    "collapsed": true
   },
   "outputs": [],
   "source": [
    "print('Hola')"
   ]
  },
  {
   "cell_type": "code",
   "execution_count": null,
   "metadata": {
    "collapsed": true
   },
   "outputs": [],
   "source": []
  }
 ],
 "metadata": {
  "kernelspec": {
   "display_name": "Python 3",
   "language": "python",
   "name": "python3"
  }
 },
 "nbformat": 4,
 "nbformat_minor": 2
}
