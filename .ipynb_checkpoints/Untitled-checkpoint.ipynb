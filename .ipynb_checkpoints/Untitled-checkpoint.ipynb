{
 "cells": [
  {
   "cell_type": "markdown",
   "metadata": {},
   "source": [
    "# Librerias"
   ]
  },
  {
   "cell_type": "code",
   "execution_count": 1,
   "metadata": {
    "collapsed": true
   },
   "outputs": [],
   "source": [
    "from time import *\n",
    "from threading import *"
   ]
  },
  {
   "cell_type": "markdown",
   "metadata": {},
   "source": [
    "# Clase de Datos"
   ]
  },
  {
   "cell_type": "code",
   "execution_count": 2,
   "metadata": {
    "collapsed": true
   },
   "outputs": [],
   "source": [
    "class Datos:\n",
    "    sonidos = []\n",
    "    def BuscarSonido(self, sonido_dato):\n",
    "        for sonido_actual in self.sonidos:\n",
    "            if(sonido_actual.etiqueta == sonido_datos.etiqueta):\n",
    "                print('Se encontro sonido')\n",
    "    def AgregarSonido(self, sonido_dato):\n",
    "        self.sonidos.append(sonido_dato)"
   ]
  },
  {
   "cell_type": "markdown",
   "metadata": {},
   "source": [
    "# Clase Robot"
   ]
  },
  {
   "cell_type": "code",
   "execution_count": 3,
   "metadata": {
    "collapsed": false
   },
   "outputs": [],
   "source": [
    "class Robot(Datos):\n",
    "    activacion = True\n",
    "    datos = [1, 2, 3, 4]\n",
    "    sentidos = [.16, .54, .30] # Datos estandares\n",
    "    posicion = [0, 0] # Posicion en dos dimensiones\n",
    "    memoria = [5] # Memoria determinada\n",
    "    def Interactuar(self, sonido_dato):\n",
    "        accesoMemoria = Thread(target=self.usarMemoria, args = (sonido_dato))\n",
    "        tiempo = Thread(target = self.Tiempo)\n",
    "        self.activacion = True # Por si tiene el valor falso por anteriores iteraciones.\n",
    "        accesoMemoria.start()\n",
    "        tiempo.start()\n",
    "    def usarMemoria(self, sonido_dato):\n",
    "        posicion_memoria = 0\n",
    "        while(self.activacion):\n",
    "            posicion_memoria += 1\n",
    "            sleep(2)\n",
    "            if(sonido_dato.etiqueta == self.datos[posicion_memoria]):\n",
    "                self.activacion == False\n",
    "                print('Se encontro etiqueta')\n",
    "    def Tiempo(self):\n",
    "        posicion_tiempo = 0\n",
    "        while(self.activacion):\n",
    "            posicion_tiempo += 1\n",
    "            print(\"Tiempo:\", posicion_tiempo)\n",
    "            if(posicion_tiempo == self.memoria[0]):\n",
    "                self.activacion = False\n",
    "                print('Memoria perdidad')\n",
    "            sleep(1)"
   ]
  },
  {
   "cell_type": "markdown",
   "metadata": {},
   "source": [
    "# Clase Sonido"
   ]
  },
  {
   "cell_type": "code",
   "execution_count": 4,
   "metadata": {
    "collapsed": true
   },
   "outputs": [],
   "source": [
    "class Sonido:\n",
    "    humbral = 0\n",
    "    def __init__(self, etiqueta):\n",
    "        self.etiqueta = etiqueta\n",
    "    def CambiarHumbral(self, humbral):\n",
    "        self.humbral = humbral"
   ]
  },
  {
   "cell_type": "markdown",
   "metadata": {},
   "source": [
    "# Definiciones Robot  (N)"
   ]
  },
  {
   "cell_type": "code",
   "execution_count": 5,
   "metadata": {
    "collapsed": false
   },
   "outputs": [],
   "source": [
    "Maquina = Robot()\n",
    "\n",
    "Mis_Datos = Datos()"
   ]
  },
  {
   "cell_type": "markdown",
   "metadata": {},
   "source": [
    "# Interfaz Creador"
   ]
  },
  {
   "cell_type": "code",
   "execution_count": 6,
   "metadata": {
    "collapsed": false
   },
   "outputs": [],
   "source": [
    "def Interaccion(sonido_dato):\n",
    "    Mis_Datos.AgregarSonido(sonido_dato)\n",
    "    Maquina.Interactuar(sonido_dato)"
   ]
  },
  {
   "cell_type": "code",
   "execution_count": 7,
   "metadata": {
    "collapsed": false
   },
   "outputs": [
    {
     "name": "stdout",
     "output_type": "stream",
     "text": [
      "Tiempo:"
     ]
    },
    {
     "name": "stderr",
     "output_type": "stream",
     "text": [
      "Exception in thread Thread-6:\n",
      "Traceback (most recent call last):\n",
      "  File \"C:\\ProgramData\\Anaconda3\\lib\\threading.py\", line 916, in _bootstrap_inner\n",
      "    self.run()\n",
      "  File \"C:\\ProgramData\\Anaconda3\\lib\\threading.py\", line 864, in run\n",
      "    self._target(*self._args, **self._kwargs)\n",
      "TypeError: usarMemoria() argument after * must be an iterable, not int\n",
      "\n"
     ]
    },
    {
     "name": "stdout",
     "output_type": "stream",
     "text": [
      " 1\n",
      "Tiempo: 2\n",
      "Tiempo: 3\n",
      "Tiempo: 4\n",
      "Tiempo: 5\n",
      "Memoria perdidad\n",
      "Tiempo: 6\n",
      "Tiempo: 7\n",
      "Tiempo: 8\n",
      "Tiempo: 9\n",
      "Tiempo: 10\n",
      "Tiempo: 11\n",
      "Tiempo: 12\n",
      "Tiempo: 13\n",
      "Tiempo: 14\n",
      "Tiempo: 15\n",
      "Tiempo: 16\n",
      "Tiempo: 17\n",
      "Tiempo: 18\n",
      "Tiempo: 19\n",
      "Tiempo: 20\n",
      "Tiempo: 21\n",
      "Tiempo: 22\n",
      "Tiempo: 23\n",
      "Tiempo: 24\n",
      "Tiempo: 25\n",
      "Tiempo: 26\n",
      "Tiempo: 27\n",
      "Tiempo: 28\n",
      "Tiempo: 29\n",
      "Tiempo: 30\n",
      "Tiempo: 31\n",
      "Tiempo: 32\n",
      "Tiempo: 33\n",
      "Tiempo: 34\n",
      "Tiempo: 35\n",
      "Tiempo: 36\n",
      "Tiempo: 37\n",
      "Tiempo: 38\n",
      "Tiempo: 39\n",
      "Tiempo: 40\n",
      "Tiempo: 41\n",
      "Tiempo: 42\n",
      "Tiempo: 43\n",
      "Tiempo: 44\n",
      "Tiempo: 45\n",
      "Tiempo: 46\n",
      "Tiempo: 47\n",
      "Tiempo: 48\n",
      "Tiempo: 49\n",
      "Tiempo: 50\n",
      "Tiempo: 51\n",
      "Tiempo: 52\n",
      "Tiempo: 53\n",
      "Tiempo: 54\n",
      "Tiempo: 55\n",
      "Tiempo: 56\n",
      "Tiempo: 57\n",
      "Tiempo: 58\n",
      "Tiempo: 59\n",
      "Tiempo: 60\n",
      "Tiempo: 61\n",
      "Tiempo: 62\n",
      "Tiempo: 63\n",
      "Tiempo: 64\n",
      "Tiempo: 65\n",
      "Tiempo: 66\n",
      "Tiempo: 67\n",
      "Tiempo: 68\n",
      "Tiempo: 69\n",
      "Tiempo: 70\n",
      "Tiempo: 71\n",
      "Tiempo: 72\n",
      "Tiempo: 73\n",
      "Tiempo: 74\n",
      "Tiempo: 75\n",
      "Tiempo: 76\n",
      "Tiempo: 77\n",
      "Tiempo: 78\n",
      "Tiempo: 79\n",
      "Tiempo: 80\n",
      "Tiempo: 81\n",
      "Tiempo: 82\n",
      "Tiempo: 83\n",
      "Tiempo: 84\n",
      "Tiempo: 85\n",
      "Tiempo: 86\n",
      "Tiempo: 87\n",
      "Tiempo: 88\n",
      "Tiempo: 89\n",
      "Tiempo: 90\n",
      "Tiempo: 91\n",
      "Tiempo: 92\n",
      "Tiempo: 93\n",
      "Tiempo: 94\n",
      "Tiempo: 95\n",
      "Tiempo: 96\n",
      "Tiempo: 97\n",
      "Tiempo: 98\n",
      "Tiempo: 99\n",
      "Tiempo: 100\n",
      "Tiempo: 101\n",
      "Tiempo: 102\n",
      "Tiempo: 103\n",
      "Tiempo: 104\n",
      "Tiempo: 105\n",
      "Tiempo: 106\n",
      "Tiempo: 107\n",
      "Tiempo: 108\n",
      "Tiempo: 109\n",
      "Tiempo: 110\n",
      "Tiempo: 111\n",
      "Tiempo: 112\n",
      "Tiempo: 113\n",
      "Tiempo: 114\n",
      "Tiempo: 115\n",
      "Tiempo: 116\n",
      "Tiempo: 117\n",
      "Tiempo: 118\n",
      "Tiempo: 119\n",
      "Tiempo: 120\n",
      "Tiempo: 121\n",
      "Tiempo: 122\n",
      "Tiempo: 123\n",
      "Tiempo: 124\n",
      "Tiempo: 125\n",
      "Tiempo: 126\n",
      "Tiempo: 127\n",
      "Tiempo: 128\n",
      "Tiempo: 129\n",
      "Tiempo: 130\n",
      "Tiempo: 131\n",
      "Tiempo: 132\n",
      "Tiempo: 133\n",
      "Tiempo: 134\n",
      "Tiempo: 135\n",
      "Tiempo: 136\n",
      "Tiempo: 137\n",
      "Tiempo: 138\n",
      "Tiempo: 139\n",
      "Tiempo: 140\n",
      "Tiempo: 141\n",
      "Tiempo: 142\n"
     ]
    }
   ],
   "source": [
    "Interaccion(1)"
   ]
  },
  {
   "cell_type": "code",
   "execution_count": null,
   "metadata": {
    "collapsed": true
   },
   "outputs": [],
   "source": []
  }
 ],
 "metadata": {
  "kernelspec": {
   "display_name": "Python 3",
   "language": "python",
   "name": "python3"
  },
  "language_info": {
   "codemirror_mode": {
    "name": "ipython",
    "version": 3
   },
   "file_extension": ".py",
   "mimetype": "text/x-python",
   "name": "python",
   "nbconvert_exporter": "python",
   "pygments_lexer": "ipython3",
   "version": "3.6.0"
  }
 },
 "nbformat": 4,
 "nbformat_minor": 2
}
