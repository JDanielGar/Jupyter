{
 "cells": [
  {
   "cell_type": "markdown",
   "metadata": {},
   "source": [
    "# Librerias"
   ]
  },
  {
   "cell_type": "code",
   "execution_count": 2,
   "metadata": {
    "collapsed": false
   },
   "outputs": [],
   "source": [
    "from time import sleep\n",
    "from threading import *"
   ]
  },
  {
   "cell_type": "markdown",
   "metadata": {},
   "source": [
    "# Datos"
   ]
  },
  {
   "cell_type": "code",
   "execution_count": 3,
   "metadata": {
    "collapsed": false
   },
   "outputs": [],
   "source": [
    "class Datos:\n",
    "    personas = []\n",
    "    sonidos = []\n",
    "    olores = []\n",
    "    visiones = []\n",
    "    def AgregarPersona(self, persona):\n",
    "        self.personas.append(persona)\n",
    "    def AgregarSonido(self, sonido):\n",
    "        self.sonidos.append(sonido)\n",
    "    def AgregarOlores(self, olor):\n",
    "        self.olores.append(olor)\n",
    "    def AgregarVisiones(self, vision):\n",
    "        self.visiones.append(vision)"
   ]
  },
  {
   "cell_type": "markdown",
   "metadata": {},
   "source": [
    "# Entorno"
   ]
  },
  {
   "cell_type": "code",
   "execution_count": 4,
   "metadata": {
    "collapsed": false
   },
   "outputs": [],
   "source": [
    "class Entorno(Datos):\n",
    "    def __init__(self, etiqueta, dimensiones=[0,0]):\n",
    "        self.etiqueta = etiqueta\n",
    "        self.dimensiones = dimensiones"
   ]
  },
  {
   "cell_type": "markdown",
   "metadata": {},
   "source": [
    "# Persona"
   ]
  },
  {
   "cell_type": "code",
   "execution_count": 5,
   "metadata": {
    "collapsed": false
   },
   "outputs": [],
   "source": [
    "class Persona(Datos):\n",
    "    posicion = [0, 0]\n",
    "    umbral = 50\n",
    "    sentidos = [.54, .30, .16] # (vista, escucha, olfato) -> Equivalen a los umbrales necesarios para el proceso\n",
    "    def __init__(self, etiqueta):\n",
    "        self.etiqueta = etiqueta\n",
    "    def CambiarPosicion(self, nueva_posicion):\n",
    "        self.posicion = nueva_posicion\n",
    "    def ActivarHumano(self):\n",
    "        vision = Thread(target=self.Ver)\n",
    "        escucha = Thread(target=self.Oir)\n",
    "        olfato = Thread(target=self.Respirar)\n",
    "        vision.start()\n",
    "        escucha.start()\n",
    "        olfato.start()\n",
    "        print('Puede seguir el poceso')\n",
    "        \n",
    "    def Ver(self):\n",
    "        ver = True\n",
    "        while(ver):\n",
    "            print('Viendo')\n",
    "            sleep(5)\n",
    "    def Oir(self):\n",
    "        global sonido_deteccion\n",
    "        sonido_deteccion = 0\n",
    "        produccion_sonido = []\n",
    "        escuchar = True\n",
    "        while(escuchar):\n",
    "            if(sonido_deteccion!=0):\n",
    "                print('Escuche', sonido_deteccion)\n",
    "                produccion_sonido.append(sonido_deteccion)\n",
    "                print(produccion_sonido)\n",
    "            print('Escuchando')\n",
    "            sleep(1)\n",
    "    def Respirar(self):\n",
    "        respirar = True\n",
    "        while(respirar):\n",
    "            print('Respirando')\n",
    "            sleep(10)"
   ]
  },
  {
   "cell_type": "markdown",
   "metadata": {},
   "source": [
    "# Sonido"
   ]
  },
  {
   "cell_type": "code",
   "execution_count": 6,
   "metadata": {
    "collapsed": false
   },
   "outputs": [],
   "source": [
    "class Sonido:\n",
    "    def __init__(self, sonido = []):\n",
    "        self.sonido = sonido\n",
    "    def ActivarSonido(self):\n",
    "        global sonido_deteccion\n",
    "        for sonido in self.sonido:\n",
    "            sonido_deteccion = sonido\n",
    "            print(sonido)\n",
    "            sleep(1)\n",
    "        sonido_deteccion = 0;\n",
    "        "
   ]
  },
  {
   "cell_type": "markdown",
   "metadata": {},
   "source": [
    "# Objeto"
   ]
  },
  {
   "cell_type": "code",
   "execution_count": 7,
   "metadata": {
    "collapsed": false
   },
   "outputs": [],
   "source": [
    "class Objeto:\n",
    "    def __init__(self, objeto = []):\n",
    "        self.objeto = objeto"
   ]
  },
  {
   "cell_type": "markdown",
   "metadata": {},
   "source": [
    "# Interfaz Creacion Entes"
   ]
  },
  {
   "cell_type": "code",
   "execution_count": 8,
   "metadata": {
    "collapsed": false
   },
   "outputs": [],
   "source": [
    "def Interfaz_Entes():\n",
    "    decision = int(input('¿Que deseas crear? \\n1. Persona. \\n2. Sonido \\n'))\n",
    "    if(decision == 1):\n",
    "        \n",
    "        # Creacion de la persona #\n",
    "        \n",
    "        nombre = input('Dale un nombre a la Persona')\n",
    "        persona = Persona(nombre)\n",
    "        print('Asignale una posicion en x y otra en y:')\n",
    "        posicion_x = int(input('Posicion en x'))\n",
    "        posicion_y = int(input('Posicion en y'))\n",
    "        persona.CambiarPosicion([posicion_x, posicion_y])\n",
    "        \n",
    "        # Asignacion de persona a Entorno #\n",
    "        \n",
    "        print(\"Entorno al que deseas asignar la persona:\")\n",
    "        for entorno in Entornos:\n",
    "            print(entorno.etiqueta)\n",
    "        nombre_entorno = input('Escribe el nombre del entorno al que deseas realizar la asignacion: ')\n",
    "        decision = True\n",
    "        for entorno in Entornos:\n",
    "            if(entorno.etiqueta==nombre_entorno):\n",
    "                entorno.AgregarPersona(persona)\n",
    "                decision = False\n",
    "        if(decision == True):\n",
    "            print('No se pudo agregar el ente')\n",
    "        \n",
    "\n",
    "    elif(decision == 2):\n",
    "        \n",
    "        # Creacion del sonido #\n",
    "        \n",
    "        generador_sonido = True\n",
    "        sonido_generado = []\n",
    "        print('Numeros entre 0 y 9. Para terminar proceso escribe 10')\n",
    "        while(generador_sonido):\n",
    "            sonido = int(input('Asigne el sonido: '))\n",
    "            if(sonido == 10):\n",
    "                print('Has salido del generador de sonido')\n",
    "                generador_sonido = False\n",
    "            elif(sonido >= 0 or sonido <=9):\n",
    "                sonido_generado.append(sonido)\n",
    "                print(sonido_generado)\n",
    "            else:\n",
    "                print('Escribe un numero entre 0 y 9')\n",
    "        sonido_generado = Sonido(sonido_generado)\n",
    "        \n",
    "        # Asignacion de Sonido a Entorno #\n",
    "\n",
    "        print(\"Entorno al que deseas asignar el sonido:\")\n",
    "        \n",
    "        # Si existen entornos #\n",
    "        \n",
    "        if(len(Entornos)>0):\n",
    "            for entorno in Entornos:\n",
    "                print(entorno.etiqueta)\n",
    "            nombre_entorno = input('Escribe el nombre del entorno al que deseas realizar la asignacion: ')\n",
    "            decision = True\n",
    "            for entorno in Entornos:\n",
    "                if(entorno.etiqueta==nombre_entorno):\n",
    "                    entorno.AgregarSonido(sonido_generado)\n",
    "                    decision = False\n",
    "            if(decision == True):\n",
    "                print('No se pudo agregar el ente')\n",
    "        \n",
    "        else:\n",
    "            print('No existe entorno definido')\n",
    "            \n",
    "            "
   ]
  },
  {
   "cell_type": "markdown",
   "metadata": {},
   "source": [
    "# Interfaz Creacion Entornos"
   ]
  },
  {
   "cell_type": "code",
   "execution_count": 9,
   "metadata": {
    "collapsed": false
   },
   "outputs": [],
   "source": [
    "def Interfaz_Entornos():\n",
    "    etiqueta = int(input('Dale una etiqueta a tu entorno:'))\n",
    "    print('Asignale dimensiones a tu entorno')\n",
    "    ancho = int(input('Ancho de tu entorno'))\n",
    "    largo = int(input('Largo de tu entorno'))\n",
    "    entorno = Entorno(etiqueta, [ancho, largo])\n",
    "    Entornos.append(Entornos)\n",
    "\n",
    "Entornos = []"
   ]
  },
  {
   "cell_type": "markdown",
   "metadata": {},
   "source": [
    "# Nuestro entorno "
   ]
  },
  {
   "cell_type": "code",
   "execution_count": 10,
   "metadata": {
    "collapsed": false
   },
   "outputs": [],
   "source": [
    "Entornos.append(Entorno('Tierra', [100, 100]))\n",
    "\n",
    "# Una sola persona #\n",
    "\n",
    "Entornos[0].AgregarPersona(Persona('Daniel'))\n",
    "\n",
    "# Trabajaremos con sonidos #\n",
    "\n",
    "Entornos[0].AgregarSonido(Sonido([3, 4, 5]))\n",
    "Entornos[0].AgregarSonido(Sonido([1, 3, 1, 6]))\n",
    "Entornos[0].AgregarSonido(Sonido([3]))\n"
   ]
  },
  {
   "cell_type": "markdown",
   "metadata": {},
   "source": [
    "# Activar Persona"
   ]
  },
  {
   "cell_type": "code",
   "execution_count": 11,
   "metadata": {
    "collapsed": false
   },
   "outputs": [
    {
     "name": "stdout",
     "output_type": "stream",
     "text": [
      "Viendo\n",
      "EscuchandoRespirando\n",
      "Puede seguir el poceso\n",
      "\n"
     ]
    }
   ],
   "source": [
    "Entornos[0].personas[0].ActivarHumano()"
   ]
  },
  {
   "cell_type": "code",
   "execution_count": 12,
   "metadata": {
    "collapsed": false
   },
   "outputs": [
    {
     "name": "stdout",
     "output_type": "stream",
     "text": [
      "3\n",
      "Escuche 3\n",
      "[3]\n",
      "Escuchando\n",
      "4\n",
      "Escuche 4\n",
      "[3, 4]\n",
      "Escuchando\n",
      "5\n",
      "Escuche 5\n",
      "[3, 4, 5]\n",
      "Escuchando\n"
     ]
    }
   ],
   "source": [
    "Entornos[0].sonidos[0].ActivarSonido()\n"
   ]
  },
  {
   "cell_type": "code",
   "execution_count": 13,
   "metadata": {
    "collapsed": false
   },
   "outputs": [
    {
     "name": "stdout",
     "output_type": "stream",
     "text": [
      "1\n",
      "Escuche 1\n",
      "[3, 4, 5, 1]\n",
      "Escuchando\n",
      "3\n",
      "Viendo\n",
      "Escuche 3\n",
      "[3, 4, 5, 1, 3]\n",
      "Escuchando\n",
      "1\n",
      "Escuche 1\n",
      "[3, 4, 5, 1, 3, 1]\n",
      "Escuchando\n",
      "6\n",
      "Escuche 6\n",
      "[3, 4, 5, 1, 3, 1, 6]\n",
      "Escuchando\n",
      "Escuchando\n",
      "Escuchando\n",
      "Viendo\n",
      "Respirando\n",
      "Escuchando\n",
      "Escuchando\n",
      "Escuchando\n",
      "Escuchando\n",
      "Escuchando\n"
     ]
    }
   ],
   "source": [
    "Entornos[0].sonidos[1].ActivarSonido()"
   ]
  },
  {
   "cell_type": "code",
   "execution_count": null,
   "metadata": {
    "collapsed": true
   },
   "outputs": [],
   "source": []
  },
  {
   "cell_type": "code",
   "execution_count": null,
   "metadata": {
    "collapsed": true
   },
   "outputs": [],
   "source": []
  },
  {
   "cell_type": "code",
   "execution_count": null,
   "metadata": {
    "collapsed": true
   },
   "outputs": [],
   "source": []
  },
  {
   "cell_type": "code",
   "execution_count": null,
   "metadata": {
    "collapsed": true
   },
   "outputs": [],
   "source": []
  },
  {
   "cell_type": "code",
   "execution_count": null,
   "metadata": {
    "collapsed": true
   },
   "outputs": [],
   "source": []
  },
  {
   "cell_type": "code",
   "execution_count": null,
   "metadata": {
    "collapsed": true
   },
   "outputs": [],
   "source": []
  },
  {
   "cell_type": "code",
   "execution_count": null,
   "metadata": {
    "collapsed": true
   },
   "outputs": [],
   "source": []
  },
  {
   "cell_type": "code",
   "execution_count": null,
   "metadata": {
    "collapsed": true
   },
   "outputs": [],
   "source": []
  },
  {
   "cell_type": "code",
   "execution_count": null,
   "metadata": {
    "collapsed": true
   },
   "outputs": [],
   "source": []
  }
 ],
 "metadata": {
  "kernelspec": {
   "display_name": "Python 3",
   "language": "python",
   "name": "python3"
  },
  "language_info": {
   "codemirror_mode": {
    "name": "ipython",
    "version": 3
   },
   "file_extension": ".py",
   "mimetype": "text/x-python",
   "name": "python",
   "nbconvert_exporter": "python",
   "pygments_lexer": "ipython3",
   "version": "3.6.0"
  }
 },
 "nbformat": 4,
 "nbformat_minor": 2
}
