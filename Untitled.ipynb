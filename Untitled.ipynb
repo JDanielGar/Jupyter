{
 "cells": [
  {
   "cell_type": "markdown",
   "metadata": {},
   "source": [
    "# Librerias"
   ]
  },
  {
   "cell_type": "code",
   "execution_count": 8,
   "metadata": {
    "collapsed": true
   },
   "outputs": [],
   "source": [
    "from time import *\n",
    "from threading import *"
   ]
  },
  {
   "cell_type": "markdown",
   "metadata": {},
   "source": [
    "# Clase Sonido"
   ]
  },
  {
   "cell_type": "code",
   "execution_count": 9,
   "metadata": {
    "collapsed": true
   },
   "outputs": [],
   "source": [
    "class Sonido:\n",
    "    humbral = 0\n",
    "    def __init__(self, etiqueta):\n",
    "        self.etiqueta = etiqueta\n",
    "    def CambiarHumbral(self, humbral):\n",
    "        self.humbral = humbral"
   ]
  },
  {
   "cell_type": "markdown",
   "metadata": {},
   "source": [
    "# Clase de Datos"
   ]
  },
  {
   "cell_type": "code",
   "execution_count": 16,
   "metadata": {
    "collapsed": true
   },
   "outputs": [],
   "source": [
    "class Datos:\n",
    "    sonidos = []\n",
    "    def BuscarSonido(self, sonido_dato):\n",
    "        for sonido_actual in self.sonidos:\n",
    "            if(sonido_actual.etiqueta == sonido_datos.etiqueta):\n",
    "                print('Se encontro sonido')\n",
    "    def AgregarSonido(self, sonido_dato):\n",
    "        self.sonidos.append(sonido_dato)"
   ]
  },
  {
   "cell_type": "markdown",
   "metadata": {},
   "source": [
    "# Clase Robot"
   ]
  },
  {
   "cell_type": "code",
   "execution_count": 26,
   "metadata": {
    "collapsed": false
   },
   "outputs": [],
   "source": [
    "class Robot(Datos):\n",
    "    activacion = True\n",
    "    datos = [1, 2, 3, 4]\n",
    "    sentidos = [.16, .54, .30] # Datos estandares\n",
    "    posicion = [0, 0] # Posicion en dos dimensiones\n",
    "    memoria = [5] # Memoria determinada\n",
    "    def Interactuar(self, sonido_dato):\n",
    "        accesoMemoria = Thread(target=self.usarMemoria, args = (sonido_dato,))\n",
    "        tiempo = Thread(target = self.Tiempo)\n",
    "        self.activacion = True # Por si tiene el valor falso por anteriores iteraciones.\n",
    "        accesoMemoria.start()\n",
    "        tiempo.start()\n",
    "    def usarMemoria(self, sonido_dato):\n",
    "        posicion_memoria = 0\n",
    "        while(self.activacion):\n",
    "            if(sonido_dato.etiqueta == self.datos[posicion_memoria]):\n",
    "                self.activacion = False\n",
    "                print('Se encontro etiqueta')\n",
    "            posicion_memoria += 1\n",
    "            sleep(2)\n",
    "    def Tiempo(self):\n",
    "        posicion_tiempo = 0\n",
    "        while(self.activacion):\n",
    "            posicion_tiempo += 1\n",
    "            print(\"Tiempo:\", posicion_tiempo)\n",
    "            if(posicion_tiempo == self.memoria[0]):\n",
    "                self.activacion = False\n",
    "                print('Memoria perdidad')\n",
    "            sleep(1)"
   ]
  },
  {
   "cell_type": "markdown",
   "metadata": {},
   "source": [
    "# Definiciones Robot  (N)"
   ]
  },
  {
   "cell_type": "code",
   "execution_count": 27,
   "metadata": {
    "collapsed": false
   },
   "outputs": [],
   "source": [
    "Maquina = Robot()\n",
    "\n",
    "Mis_Datos = Datos()"
   ]
  },
  {
   "cell_type": "markdown",
   "metadata": {},
   "source": [
    "# Interfaz Creador"
   ]
  },
  {
   "cell_type": "code",
   "execution_count": 28,
   "metadata": {
    "collapsed": false
   },
   "outputs": [],
   "source": [
    "def Interaccion(sonido_dato):\n",
    "    sonido_dato = Sonido(sonido_dato)\n",
    "    Mis_Datos.AgregarSonido(sonido_dato)\n",
    "    \n",
    "    Maquina.Interactuar(sonido_dato)"
   ]
  },
  {
   "cell_type": "code",
   "execution_count": 30,
   "metadata": {
    "collapsed": false
   },
   "outputs": [
    {
     "name": "stdout",
     "output_type": "stream",
     "text": [
      "Tiempo: 1\n",
      "Tiempo: 2\n",
      "Se encontro etiqueta\n"
     ]
    }
   ],
   "source": [
    "Interaccion(2)"
   ]
  },
  {
   "cell_type": "code",
   "execution_count": null,
   "metadata": {
    "collapsed": true
   },
   "outputs": [],
   "source": []
  },
  {
   "cell_type": "code",
   "execution_count": null,
   "metadata": {
    "collapsed": true
   },
   "outputs": [],
   "source": []
  }
 ],
 "metadata": {
  "kernelspec": {
   "display_name": "Python 3",
   "language": "python",
   "name": "python3"
  },
  "language_info": {
   "codemirror_mode": {
    "name": "ipython",
    "version": 3
   },
   "file_extension": ".py",
   "mimetype": "text/x-python",
   "name": "python",
   "nbconvert_exporter": "python",
   "pygments_lexer": "ipython3",
   "version": "3.6.0"
  }
 },
 "nbformat": 4,
 "nbformat_minor": 2
}
